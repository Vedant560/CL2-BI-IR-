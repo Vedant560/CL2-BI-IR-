{
  "cells": [
    {
      "cell_type": "markdown",
      "id": "e8d5cdcb",
      "metadata": {},
      "source": [
        "# Assignment 1\n",
        "\n",
        "Write a program for pre-processing of a text document such as stop word removal, stemming."
      ]
    },
    {
      "cell_type": "code",
      "execution_count": 1,
      "id": "5c9998a3",
      "metadata": {
        "colab": {
          "base_uri": "https://localhost:8080/"
        },
        "id": "5c9998a3",
        "outputId": "cd9bc941-f075-4478-d5f8-8d09e6ac68ef"
      },
      "outputs": [
        {
          "name": "stdout",
          "output_type": "stream",
          "text": [
            "Requirement already satisfied: nltk in /usr/local/lib/python3.10/dist-packages (3.8.1)\n",
            "Requirement already satisfied: click in /usr/local/lib/python3.10/dist-packages (from nltk) (8.1.7)\n",
            "Requirement already satisfied: joblib in /usr/local/lib/python3.10/dist-packages (from nltk) (1.4.2)\n",
            "Requirement already satisfied: regex>=2021.8.3 in /usr/local/lib/python3.10/dist-packages (from nltk) (2024.9.11)\n",
            "Requirement already satisfied: tqdm in /usr/local/lib/python3.10/dist-packages (from nltk) (4.66.5)\n"
          ]
        }
      ],
      "source": [
        "! pip install nltk"
      ]
    },
    {
      "cell_type": "code",
      "execution_count": 2,
      "id": "c875a719",
      "metadata": {
        "colab": {
          "base_uri": "https://localhost:8080/"
        },
        "id": "c875a719",
        "outputId": "a8171a00-9862-49c1-83e5-1bf3527bf7f5"
      },
      "outputs": [
        {
          "name": "stderr",
          "output_type": "stream",
          "text": [
            "[nltk_data] Downloading package punkt to /root/nltk_data...\n",
            "[nltk_data]   Unzipping tokenizers/punkt.zip.\n",
            "[nltk_data] Downloading package stopwords to /root/nltk_data...\n",
            "[nltk_data]   Unzipping corpora/stopwords.zip.\n"
          ]
        }
      ],
      "source": [
        "import nltk\n",
        "from nltk.corpus import stopwords\n",
        "from nltk.stem import PorterStemmer\n",
        "import string\n",
        "\n",
        "# Download NLTK resources (you may need to run this once)\n",
        "nltk.download('punkt')\n",
        "nltk.download('stopwords')\n",
        "\n",
        "def preprocess_text(text):\n",
        "    # Initialize the stemmer and get the list of stop words\n",
        "    stemmer = PorterStemmer()\n",
        "    stop_words = set(stopwords.words('english'))\n",
        "\n",
        "    # Tokenize the text into words\n",
        "    words = nltk.word_tokenize(text)\n",
        "\n",
        "    # Preprocess the words: remove punctuation, stop words and stem\n",
        "    processed_words = []\n",
        "    for word in words:\n",
        "        word = word.lower()  # Convert to lowercase\n",
        "        word = word.strip(string.punctuation)  # Remove punctuation\n",
        "        if word and word not in stop_words:  # Check if it's not a stop word\n",
        "            stemmed_word = stemmer.stem(word)  # Stem the word\n",
        "            processed_words.append(stemmed_word)\n",
        "\n",
        "    return processed_words\n"
      ]
    },
    {
      "cell_type": "code",
      "execution_count": 3,
      "id": "a9b417fe",
      "metadata": {
        "colab": {
          "base_uri": "https://localhost:8080/"
        },
        "id": "a9b417fe",
        "outputId": "dee82c23-7764-4ed1-8c9c-fe5d62efa3dc"
      },
      "outputs": [
        {
          "name": "stdout",
          "output_type": "stream",
          "text": [
            "Processed Words: ['sampl', 'text', 'preprocess', 'text', 'contain', 'stop', 'word']\n"
          ]
        }
      ],
      "source": [
        "sample_text = \"This is a sample text for preprocessing! The text contains some stop words.\"\n",
        "processed = preprocess_text(sample_text)\n",
        "print(\"Processed Words:\", processed)"
      ]
    },
    {
      "cell_type": "code",
      "execution_count": 3,
      "id": "a5ab7bfe",
      "metadata": {
        "id": "a5ab7bfe"
      },
      "outputs": [],
      "source": []
    }
  ],
  "metadata": {
    "colab": {
      "provenance": []
    },
    "kernelspec": {
      "display_name": "Python 3 (ipykernel)",
      "language": "python",
      "name": "python3"
    },
    "language_info": {
      "codemirror_mode": {
        "name": "ipython",
        "version": 3
      },
      "file_extension": ".py",
      "mimetype": "text/x-python",
      "name": "python",
      "nbconvert_exporter": "python",
      "pygments_lexer": "ipython3",
      "version": "3.12.6"
    }
  },
  "nbformat": 4,
  "nbformat_minor": 5
}
