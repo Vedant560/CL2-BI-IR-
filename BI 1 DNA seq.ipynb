{
 "cells": [
  {
   "cell_type": "code",
   "execution_count": null,
   "id": "cb891994-53d4-4be2-9c06-4eea576f54a0",
   "metadata": {},
   "outputs": [],
   "source": [
    "NAME: KSHITI DESHPANDE\n",
    "CLASS: AI&DS BE-B\n",
    "ROLL NO: BEAD21256\n",
    "SUBJECT: CL2\n",
    "EXPERIMENT 1"
   ]
  },
  {
   "cell_type": "markdown",
   "id": "f855797c-6eda-4904-9e77-217a8dbd987a",
   "metadata": {},
   "source": [
    "1. DNA Sequence Analysis. Task: Analyze a given DNA sequence and perform basic sequence manipulation, including finding motifs, calculating GC content, and identifying coding regions"
   ]
  },
  {
   "cell_type": "code",
   "execution_count": 1,
   "id": "d950d5ce-c3c7-4473-826c-fe97888b7204",
   "metadata": {},
   "outputs": [
    {
     "name": "stdout",
     "output_type": "stream",
     "text": [
      "Motifs found: [0, 9]\n",
      "GC content: 44.44444444444444%\n",
      "Coding regions: [(0, 8), (0, 17), (9, 17)]\n"
     ]
    }
   ],
   "source": [
    "import re\n",
    "\n",
    "# Function to find motifs in a DNA sequence\n",
    "def find_motifs(sequence, motif):\n",
    "    matches = re.finditer(motif, sequence)\n",
    "    positions = [match.start() for match in matches]\n",
    "    return positions\n",
    "\n",
    "# Function to calculate GC content in a DNA sequence\n",
    "def calculate_gc_content(sequence):\n",
    "    gc_count = sequence.count('G') + sequence.count('C')\n",
    "    total_bases = len(sequence)\n",
    "    gc_content = (gc_count / total_bases) * 100\n",
    "    return gc_content\n",
    "\n",
    "# Function to identify coding regions (example: start codon 'ATG' and stop codon 'TAA')\n",
    "def identify_coding_regions(sequence):\n",
    "    start_codon = 'ATG'\n",
    "    stop_codon = 'TAA'\n",
    "    coding_regions = []\n",
    "    start_positions = find_motifs(sequence, start_codon)\n",
    "    stop_positions = find_motifs(sequence, stop_codon)\n",
    "\n",
    "    for start in start_positions:\n",
    "        for stop in stop_positions:\n",
    "            if stop > start and (stop - start) % 3 == 0:\n",
    "                coding_regions.append((start, stop + 2))\n",
    "\n",
    "    return coding_regions\n",
    "\n",
    "\n",
    "# Example DNA sequence (replace with your own sequence)\n",
    "dna_sequence = \"ATGGCCTAAATGGGCTAA\"\n",
    "\n",
    "# Find motifs\n",
    "motif_to_find = \"ATG\"\n",
    "motifs_found = find_motifs(dna_sequence, motif_to_find)\n",
    "print(f\"Motifs found: {motifs_found}\")\n",
    "\n",
    "# Calculate GC content\n",
    "gc_content = calculate_gc_content(dna_sequence)\n",
    "print(f\"GC content: {gc_content}%\")\n",
    "\n",
    "# Identify coding regions\n",
    "coding_regions = identify_coding_regions(dna_sequence)\n",
    "print(f\"Coding regions: {coding_regions}\")\n"
   ]
  },
  {
   "cell_type": "code",
   "execution_count": null,
   "id": "6f89bf79-a9b3-48d2-9402-aa2f0e3012d7",
   "metadata": {},
   "outputs": [],
   "source": []
  }
 ],
 "metadata": {
  "kernelspec": {
   "display_name": "Python 3 (ipykernel)",
   "language": "python",
   "name": "python3"
  },
  "language_info": {
   "codemirror_mode": {
    "name": "ipython",
    "version": 3
   },
   "file_extension": ".py",
   "mimetype": "text/x-python",
   "name": "python",
   "nbconvert_exporter": "python",
   "pygments_lexer": "ipython3",
   "version": "3.11.1"
  }
 },
 "nbformat": 4,
 "nbformat_minor": 5
}
