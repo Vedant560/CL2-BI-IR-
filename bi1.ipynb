{
 "cells": [
  {
   "cell_type": "markdown",
   "metadata": {
    "id": "EdszuseU4dvc"
   },
   "source": [
    "# Assignment 1\n",
    "\n",
    "DNA Sequence Analysis. Task: Analyze a given DNA sequence and perform basic\n",
    "sequence manipulation, including finding motifs, calculating GC content, and\n",
    "identifying coding regions."
   ]
  },
  {
   "cell_type": "code",
   "execution_count": null,
   "metadata": {
    "id": "UruTNA6R4dvd",
    "outputId": "00c8bd11-329f-4f8e-bd80-46ddd000962f"
   },
   "outputs": [
    {
     "name": "stdout",
     "output_type": "stream",
     "text": [
      "GC-content: 0.4302926296296296\n"
     ]
    }
   ],
   "source": [
    "# Import necessary libraries\n",
    "import sys\n",
    "\n",
    "def filename_to_string(dna_filename):\n",
    "    inputfile = open(dna_filename)\n",
    "    seq = \"\"\n",
    "    linenum = 0\n",
    "    for line in inputfile:\n",
    "        linenum += 1\n",
    "        if linenum % 4 == 2:\n",
    "            line = line.rstrip()\n",
    "            seq += line\n",
    "    return seq\n",
    "\n",
    "# Directly specify your filename here\n",
    "filename = 'dsample_1.fastq'  # Change this to the desired file\n",
    "\n",
    "# Read nucleotides\n",
    "nucleotides = filename_to_string(filename)\n",
    "\n",
    "# Compute statistics\n",
    "total_count = 0\n",
    "gc_count = 0\n",
    "\n",
    "for base in nucleotides:\n",
    "    total_count += 1\n",
    "    if base in ('C', 'G'):\n",
    "        gc_count += 1\n",
    "\n",
    "gc_content = float(gc_count) / total_count\n",
    "print('GC-content:', gc_content)\n",
    "\n",
    "# Assertion to check correctness\n",
    "assert total_count == len(nucleotides), \"total_count != length of nucleotides\"\n"
   ]
  },
  {
   "cell_type": "code",
   "execution_count": null,
   "metadata": {
    "id": "u1F40ICC4dvf"
   },
   "outputs": [],
   "source": []
  }
 ],
 "metadata": {
  "colab": {
   "provenance": []
  },
  "kernelspec": {
   "display_name": "Python 3 (ipykernel)",
   "language": "python",
   "name": "python3"
  },
  "language_info": {
   "codemirror_mode": {
    "name": "ipython",
    "version": 3
   },
   "file_extension": ".py",
   "mimetype": "text/x-python",
   "name": "python",
   "nbconvert_exporter": "python",
   "pygments_lexer": "ipython3",
   "version": "3.11.8"
  }
 },
 "nbformat": 4,
 "nbformat_minor": 4
}
